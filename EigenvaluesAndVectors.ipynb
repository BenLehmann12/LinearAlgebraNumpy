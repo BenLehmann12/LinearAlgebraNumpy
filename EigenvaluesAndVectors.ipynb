{
 "cells": [
  {
   "cell_type": "code",
   "execution_count": 1,
   "id": "7cc5b5cf",
   "metadata": {},
   "outputs": [],
   "source": [
    "import numpy as np\n",
    "from numpy.linalg import eig"
   ]
  },
  {
   "attachments": {
    "Screenshot%20%2813%29.png": {
     "image/png": "[encoded data removed]"
    }
   },
   "cell_type": "markdown",
   "id": "6794ba84",
   "metadata": {},
   "source": [
    "Definition: An eigenvector of an n x n matrix A is a nonzero vector x such that\n",
    "![Screenshot%20%2813%29.png](attachment:Screenshot%20%2813%29.png)\n",
    "\n"
   ]
  },
  {
   "attachments": {
    "Screenshot%20%2815%29.png": {
     "image/png": "[encoded data removed]"
    }
   },
   "cell_type": "markdown",
   "id": "564ad21e",
   "metadata": {},
   "source": [
    "Definition: A scalar![Screenshot%20%2815%29.png](attachment:Screenshot%20%2815%29.png)\n",
    "is called an eigenvalue of Matrix a"
   ]
  },
  {
   "attachments": {
    "Screenshot%20%2817%29.png": {
     "image/png": "[encoded data removed]"
    }
   },
   "cell_type": "markdown",
   "id": "c8f1aa36",
   "metadata": {},
   "source": [
    "We can Calculate Eigenvalues with\n",
    "![Screenshot%20%2817%29.png](attachment:Screenshot%20%2817%29.png)"
   ]
  },
  {
   "cell_type": "code",
   "execution_count": 3,
   "id": "37b0ff80",
   "metadata": {},
   "outputs": [
    {
     "name": "stdout",
     "output_type": "stream",
     "text": [
      "Eigenvalue:  [1. 5.]\n",
      "Eigenvector\n",
      " [[-0.9486833  -0.70710678]\n",
      " [ 0.31622777 -0.70710678]]\n"
     ]
    }
   ],
   "source": [
    "#Create the Matrix\n",
    "m = np.array([[2,3],[1,4]])\n",
    "val,mat = eig(m)\n",
    "print(\"Eigenvalue: \",val)\n",
    "print(\"Eigenvector\\n\", mat)"
   ]
  },
  {
   "attachments": {
    "Screenshot%20%2813%29.png": {
     "image/png": "[encoded data removed]"
    }
   },
   "cell_type": "markdown",
   "id": "f1ecc646",
   "metadata": {},
   "source": [
    "We Can test to make sure we prove this theory\n",
    "![Screenshot%20%2813%29.png](attachment:Screenshot%20%2813%29.png)"
   ]
  },
  {
   "cell_type": "code",
   "execution_count": 4,
   "id": "9876c15e",
   "metadata": {},
   "outputs": [
    {
     "name": "stdout",
     "output_type": "stream",
     "text": [
      "True\n"
     ]
    }
   ],
   "source": [
    "a_v = np.dot(m,mat[:,0])\n",
    "scal_v = np.dot(val[0],mat[:,0])\n",
    "check = np.allclose(a_v,scal_v)\n",
    "print(check)     #Yes! It checks out"
   ]
  }
 ],
 "metadata": {
  "kernelspec": {
   "display_name": "Python 3 (ipykernel)",
   "language": "python",
   "name": "python3"
  },
  "language_info": {
   "codemirror_mode": {
    "name": "ipython",
    "version": 3
   },
   "file_extension": ".py",
   "mimetype": "text/x-python",
   "name": "python",
   "nbconvert_exporter": "python",
   "pygments_lexer": "ipython3",
   "version": "3.9.13"
  }
 },
 "nbformat": 4,
 "nbformat_minor": 5
}
