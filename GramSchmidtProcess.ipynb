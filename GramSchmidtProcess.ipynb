{
 "cells": [
  {
   "cell_type": "code",
   "execution_count": 2,
   "id": "d4473bb3",
   "metadata": {},
   "outputs": [],
   "source": [
    "import numpy as np\n",
    "import numpy.linalg as lg"
   ]
  },
  {
   "attachments": {
    "GramSchmidt.png": {
     "image/png": "[encoded data removed]"
    }
   },
   "cell_type": "markdown",
   "id": "3694e64c",
   "metadata": {},
   "source": [
    "![GramSchmidt.png](attachment:GramSchmidt.png)"
   ]
  },
  {
   "cell_type": "code",
   "execution_count": 15,
   "id": "15168e54",
   "metadata": {},
   "outputs": [
    {
     "name": "stdout",
     "output_type": "stream",
     "text": [
      "Matrix\n",
      "[[-0.14033018 -0.5092543   0.45629542 -0.32816201]\n",
      " [ 0.7454921   0.50784101 -0.05431138  0.16837143]\n",
      " [-0.13999453 -0.31273737  0.40372495 -0.67779266]\n",
      " [-0.63635721  0.62044573  0.7911074  -0.63604864]]\n",
      "Matrix^T:\n",
      "[[ 1.          0.09901161 -0.66446691  0.67121201]\n",
      " [ 0.09901161  1.          0.10462738  0.06996127]\n",
      " [-0.66446691  0.10462738  1.         -0.9357079 ]\n",
      " [ 0.67121201  0.06996127 -0.9357079   1.        ]]\n"
     ]
    }
   ],
   "source": [
    "ax = np.random.randn(4,4)\n",
    "def gram(ar):\n",
    "    print(\"Matrix\")\n",
    "    print(ar)\n",
    "    print(\"Matrix^T:\")\n",
    "    ar_t = np.dot(ar.T,ar)\n",
    "    ar_t[np.abs(ar_t) < 1e-15] = 0\n",
    "    print(ar_t)\n",
    "\n",
    "ar = np.zeros(ax.shape)\n",
    "for i in range(ax.shape[1]):\n",
    "    vec = ax[:,i]\n",
    "    v = vec\n",
    "    for k in range(i):\n",
    "        v = v - np.dot(vec,ar[:,k])*ar[:,k]\n",
    "    ary[:,i] = v/lg.norm(v)\n",
    "\n",
    "gram(ary)"
   ]
  }
 ],
 "metadata": {
  "kernelspec": {
   "display_name": "Python 3 (ipykernel)",
   "language": "python",
   "name": "python3"
  },
  "language_info": {
   "codemirror_mode": {
    "name": "ipython",
    "version": 3
   },
   "file_extension": ".py",
   "mimetype": "text/x-python",
   "name": "python",
   "nbconvert_exporter": "python",
   "pygments_lexer": "ipython3",
   "version": "3.9.13"
  }
 },
 "nbformat": 4,
 "nbformat_minor": 5
}
